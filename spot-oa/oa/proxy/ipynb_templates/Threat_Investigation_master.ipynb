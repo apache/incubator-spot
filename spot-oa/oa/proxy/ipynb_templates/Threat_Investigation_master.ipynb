{
 "cells": [
  {
   "cell_type": "code",
   "execution_count": null,
   "metadata": {
    "collapsed": false,
    "scrolled": true,
    "slideshow": {
     "slide_type": "skip"
    }
   },
   "outputs": [],
   "source": [
    "import struct, socket\n",
    "import csv, json \n",
    "import os \n",
    "import datetime\n",
    "import operator\n",
    "import itertools\n",
    "import md5\n",
    "from collections import defaultdict \n",
    "\n",
    "try:\n",
    "    import ipywidgets as widgets # For jupyter/ipython >= 1.4\n",
    "except ImportError:\n",
    "    from IPython.html import widgets\n",
    "from IPython.display import display, HTML, clear_output, Javascript \n",
    "            \n",
    "path = os.getcwd().split(\"/\") \n",
    "date = path[len(path)-1]   \n",
    "dpath = '/'.join(['data' if var == 'ipynb' else var for var in path]) + '/'\n",
    "anchor = ''\n",
    "anchor_hash = ''\n",
    "clientips  = defaultdict(int)\n",
    "reqmethods = defaultdict(int)\n",
    "rescontype = defaultdict(int)\n",
    "referers   = defaultdict(int)\n",
    "refered    = defaultdict(int)\n",
    "requests = []\n",
    "top_results = 20\n",
    "details_limit = 1000\n",
    "proxy_comments = {}"
   ]
  },
  {
   "cell_type": "code",
   "execution_count": null,
   "metadata": {
    "collapsed": false
   },
   "outputs": [],
   "source": [
    "# Widget styles and initialization\n",
    "topBox = widgets.Box()\n",
    "bottomBox = widgets.Box()\n",
    "mainBoxes_css = (\n",
    "    (None, 'width', '90%'),\n",
    "    (None, 'margin', '0 auto'),\n",
    ")\n",
    "\n",
    "topBox._css = mainBoxes_css\n",
    "bottomBox._css = mainBoxes_css \n",
    "\n",
    "threatBox = widgets.HBox(width='100%', height='auto')\n",
    "threat_title = widgets.HTML(height='25px', width='100%')\n",
    "threat_list_container = widgets.Box(width='80%', height='100%')\n",
    "threat_button_container = widgets.Box(width='20%', height='100%')\n",
    "susp_select = widgets.Select(height='100%', width='99%')\n",
    "search_btn = widgets.Button(description='Search',height='100%', width='65px')\n",
    "search_btn.button_style = 'primary'\n",
    "susp_select._css = (\n",
    "    (None, 'height', '90%'),\n",
    "    (None, 'width', '95%'),\n",
    "    ('select', 'overflow-x', 'auto'),\n",
    "    ('select', 'margin', 0)\n",
    ")\n",
    "\n",
    "resultSummaryBox = widgets.Box()\n",
    "result_title = widgets.HTML(width='100%')\n",
    "result_summary_box = widgets.HBox(width='100%')\n",
    "result_summary_container = widgets.Box(width='80%')\n",
    "result_button_container =  widgets.Box(width='20%')\n",
    "result_summary_box.children = [result_title, result_summary_container, result_button_container]\n",
    " \n",
    "resultTableBox = widgets.Box()\n",
    "result_html_title = widgets.HTML(height='25px', width='100%')\n",
    "result_html_box = widgets.Box() #this one has the scroll\n",
    "result_html = widgets.HTML(width='100%')\n",
    "result_box_css = (\n",
    "    (None, 'overflow', 'hidden'),\n",
    "    (None, 'width', '100%'),\n",
    ")\n",
    "\n",
    "resultSummaryBox._css = result_box_css\n",
    "resultTableBox._css = result_box_css\n",
    " \n",
    "result_html_box._css = (\n",
    "    (None, 'overflow','auto'),\n",
    "    (None, 'max-height', '300px'), \n",
    ")\n",
    "\n",
    "threat_button_container._css = (\n",
    "    (None, 'padding-top', '30px'), \n",
    ")  \n",
    "\n",
    "topBox.children = [threatBox]\n",
    "bottomBox.children = [resultSummaryBox,resultTableBox]\n",
    "\n",
    "threat_list_container.children = [threat_title,susp_select]\n",
    "threat_button_container.children = [search_btn]\n",
    "threatBox.children = [threat_list_container, threat_button_container]"
   ]
  },
  {
   "cell_type": "markdown",
   "metadata": {},
   "source": [
    "**Interface**"
   ]
  },
  {
   "cell_type": "code",
   "execution_count": null,
   "metadata": {
    "collapsed": false,
    "scrolled": false
   },
   "outputs": [],
   "source": [
    "yy = date[0:4]\n",
    "mm = date[4:6] \n",
    "dd = date[6:8]\n",
    "\n",
    "\n",
    "def fill_list(list_control,source):\n",
    "    susp_select.options = list_control\n",
    "    susp_select.selected_label = list_control[0]\n",
    "\n",
    "\n",
    "def data_loader():\n",
    "    clear_output() \n",
    "    c_uri = []\n",
    "    uri_sev=[]\n",
    "    global proxy_comments\n",
    "    \n",
    "    response = GraphQLClient.request(\n",
    "        query=\"\"\"query($date:SpotDateType!) {\n",
    "                 proxy{\n",
    "                    threats{\n",
    "                        list(date:$date) {\n",
    "                            score\n",
    "                            uri\n",
    "                            datetime\n",
    "                        }\n",
    "                    }\n",
    "            }\n",
    "        }\"\"\",\n",
    "        variables={\n",
    "            'date': datetime.datetime.strptime(date, '%Y%m%d').strftime('%Y-%m-%d')\n",
    "        }\n",
    "    )\n",
    "    proxy_comments = GraphQLClient.request(\n",
    "        query=\"\"\"query($date:SpotDateType!) {\n",
    "                 proxy{\n",
    "                    threats{\n",
    "                        comments(date:$date) {                            \n",
    "                            uri\n",
    "                            title\n",
    "                            text\n",
    "                        }\n",
    "                    }\n",
    "            }\n",
    "        }\"\"\",\n",
    "        variables={\n",
    "            'date': datetime.datetime.strptime(date, '%Y%m%d').strftime('%Y-%m-%d')\n",
    "        }\n",
    "    )\n",
    "    proxy_comments = proxy_comments['data']['proxy']['threats']['comments']\n",
    "    if not 'errors' in response: \n",
    "        for row in response['data']['proxy']['threats']['list']:        \n",
    "            if row['uri'] not in uri_sev and row['score'] == 1: \n",
    "                uri_sev.append(row['uri'])\n",
    "    else:\n",
    "        print \"An error ocurred: \" + response[\"errors\"][0][\"message\"]\n",
    " \n",
    "    threat_title.value =\"<h4>Suspicious URI</h4>\"\n",
    "                       \n",
    "    if len(uri_sev) == 0:\n",
    "        display(Javascript(\"$('.widget-area > .widget-subarea > *').remove();\"))   \n",
    "        display(widgets.HTML(value=\"There are not high risk results.\"),)\n",
    "    else:  \n",
    "        sorted_dict = sorted(uri_sev, key=operator.itemgetter(0))       \n",
    "        fill_list(sorted_dict,susp_select)     \n",
    "        \n",
    "    \n",
    "def start_investigation(): \n",
    "    display(Javascript(\"$('.widget-area > .widget-subarea > *').remove();\"))    \n",
    "    data_loader()\n",
    "    if susp_select.options:\n",
    "        display_controls()  \n",
    "\n",
    "        \n",
    "def display_controls():  \n",
    "    display(topBox) \n",
    "  \n",
    "    def search_ip(b):  \n",
    "        global anchor\n",
    "        global expanded_results\n",
    "        anchor='' \n",
    "        anchor = susp_select.value   \n",
    "        removeWidget(3)\n",
    "        removeWidget(2)\n",
    "        removeWidget(1) \n",
    "        height=80   \n",
    "        \n",
    "        expanded_results = GraphQLClient.request(\n",
    "            query=\"\"\"query($date:SpotDateType!,$uri:String!){\n",
    "                              proxy{\n",
    "                                threat{\n",
    "                                  details(date:$date,uri:$uri) {\n",
    "                                    username\n",
    "                                    webCategory\n",
    "                                    responseContentType\n",
    "                                    datetime\n",
    "                                    referer\n",
    "                                    clientToServerBytes\n",
    "                                    duration\n",
    "                                    userAgent\n",
    "                                    uri\n",
    "                                    serverIp\n",
    "                                    requestMethod\n",
    "                                    responseCode\n",
    "                                    uriPort\n",
    "                                    clientIp\n",
    "                                    serverToClientBytes\n",
    "                                  }\n",
    "                                }\n",
    "                              }  \n",
    "                            }\n",
    "                            \"\"\",\n",
    "                        variables={\n",
    "                        'date': datetime.datetime.strptime(date, '%Y%m%d').strftime('%Y-%m-%d'),\n",
    "                        'uri': anchor\n",
    "                        }\n",
    "                    )\n",
    "        \n",
    "        \n",
    "        if not 'errors' in expanded_results: \n",
    "            i = 0\n",
    "            table = \"<table><th>TIME</th><th>CLIENT IP</th><th>USERNAME</th><th>DURATION</th> \\\n",
    "            <th>FULL URI</th><th>WEB CATEGORY</th><th>RESPONSE CODE</th><th>REQUEST METHOD</th><th>USER AGENT</th> \\\n",
    "            <th>MIME TYPE</th><th>REFERER</th><th>URI PORT</th><th>PROXY IP</th><th>SERVER BYTES</th><th>CLIENT BYTES</th>\"\n",
    "            for row in expanded_results['data']['proxy']['threat']['details']:\n",
    "                if i < top_results:\n",
    "                    table += \"<tr><td>\"+ str(row['datetime'])+\"</td><td>\"+str(row['clientIp'])+\"</td>\\\n",
    "                    <td><div class='spot-text-wrapper' data-toggle='tooltip'>\"+str(row['username'])+\"\\\n",
    "                    </div></td><td>\"+str(row['duration'])+\"</td>\\\n",
    "                    <td><div class='spot-text-wrapper' data-toggle='tooltip'>\"+str(row['uri'])+\"</div>\\\n",
    "                    </td><td>\"+str(row['webCategory'])+\"</td>\\\n",
    "                    <td>\"+str(row['responseCode'])+\"</td><td>\"+str(row['requestMethod'])+\"</td>\\\n",
    "                    <td><div class='spot-text-wrapper' data-toggle='tooltip'>\"+str(row['userAgent'])+\"</div></td>\\\n",
    "                    <td><div class='spot-text-wrapper' data-toggle='tooltip'>\"+str(row['responseContentType'])+\"</div></td>\\\n",
    "                    <td><div class='spot-text-wrapper' data-toggle='tooltip'>\"+str(row['referer'])+\"</div></td>\\\n",
    "                    <td>\"+str(row['uriPort'])+\"</td><td>\"+str(row['serverIp'])+\"</td><td>\\\n",
    "                    \"+str(row['serverToClientBytes'])+\"</td><td>\"+str(row['clientToServerBytes'])+\"</td></tr>\"\n",
    "\n",
    "                height += 20\n",
    "                i+=1\n",
    "            table += \"</table>\"                \n",
    "            result_html_title.value='<h4>Displaying top {0} search results</h4>'.format(top_results)\n",
    "        else:\n",
    "            table = \"<table></table>\"\n",
    "            result_html_title.value='<h4>No results were found.</h4>'\n",
    "\n",
    "        result_html.value=table\n",
    "        result_html_box.children = [result_html]\n",
    " \n",
    "        display_threat_box(anchor)\n",
    "        resultTableBox.children = [result_html_title, result_html_box]\n",
    "        display(bottomBox)\n",
    "        \n",
    "        \n",
    "    search_btn.on_click(search_ip)\n",
    "\n",
    "        \n",
    "def display_threat_box(ip):   \n",
    "    global expanded_results\n",
    "    global proxy_comments\n",
    "    \n",
    "    title =\"\" \n",
    "    comments = \"\"\n",
    "    title = next((item['title'] for item in proxy_comments if item.get(\"uri\") == ip), \"\")\n",
    "    comments = next((item['text'] for item in proxy_comments if item.get(\"uri\") == ip), \"\")\n",
    "    result_title.value=\"<h4 class='spot-text-wrapper spot-text-xlg' data-toggle='tooltip'>Threat summary for \" + anchor +\"</h4>\"\n",
    "    tc_txt_title = widgets.Text(value=title, placeholder='Threat Title', width='100%')\n",
    "    tc_txa_summary = widgets.Textarea(value=comments, height=100, width='95%')\n",
    "    tc_btn_save = widgets.Button(description='Save', width='65px', layout='width:100%')\n",
    "    tc_btn_save.button_style = 'primary'\n",
    "    \n",
    "    tc_txt_title._css = (\n",
    "        (None, 'width', '95%'),\n",
    "    )\n",
    "    \n",
    "    result_summary_container.children = [tc_txt_title, tc_txa_summary]\n",
    "    result_button_container.children=[tc_btn_save]\n",
    "    result_summary_box.children = [result_summary_container, result_button_container]\n",
    "    resultSummaryBox.children = [result_title,result_summary_box]\n",
    "    \n",
    "    def save_threat_summary(b):\n",
    "        result_msg = \"\"\n",
    "        threat_title = tc_txt_title.value \n",
    "        threat_comment = tc_txa_summary.value\n",
    "\n",
    "        \n",
    "        if anchor != '':   \n",
    "            mutation=\"\"\"mutation(\n",
    "                        $date: SpotDateType, \n",
    "                        $uri: String!, \n",
    "                        $text: String!, \n",
    "                        $title: String!,\n",
    "                        $threatDetails: [ProxyThreatDetailsInputType!]!,\n",
    "                        $first:Int) \n",
    "                        {\n",
    "                          proxy {\n",
    "                            createStoryboard(input:{\n",
    "                                threatDetails: $threatDetails,\n",
    "                                date: $date, \n",
    "                                uri: $uri, \n",
    "                                title: $title, \n",
    "                                text: $text,\n",
    "                                first:$first})\n",
    "                            {success}\n",
    "                          }\n",
    "                        }\"\"\"\n",
    "\n",
    "            variables={\n",
    "                'date': datetime.datetime.strptime(date, '%Y%m%d').strftime('%Y-%m-%d'),\n",
    "                'uri': anchor,\n",
    "                'title': threat_title,\n",
    "                'text': threat_comment,\n",
    "                'threatDetails': expanded_results['data']['proxy']['threat']['details'],\n",
    "                'first':top_results\n",
    "                }\n",
    "\n",
    "            response = GraphQLClient.request(mutation,variables)\n",
    "            if not 'errors' in response:\n",
    "                start_investigation()\n",
    "                result_msg = \"Story board successfully created\"\n",
    "            else:\n",
    "                result_msg = response['errors'][0]['message'] \n",
    "        else:\n",
    "            result_msg = \"No data selected\" \n",
    "\n",
    "        susp_select.selected_label = susp_select.options[0]\n",
    "        display(widgets.Box((widgets.HTML(value=result_msg, width='100%'),)))\n",
    "    \n",
    "    tc_btn_save.on_click(save_threat_summary)\n",
    "\n",
    "    \n",
    "def removeWidget(index):\n",
    "    js_command = \"$('.widget-area > .widget-subarea > .widget-box:eq({0})').remove();\".format(index)    \n",
    "    display(Javascript(js_command)) "
   ]
  },
  {
   "cell_type": "code",
   "execution_count": null,
   "metadata": {
    "collapsed": false,
    "scrolled": false
   },
   "outputs": [],
   "source": [
    "start_investigation() "
   ]
  }
 ],
 "metadata": {
  "kernelspec": {
   "display_name": "Python 2",
   "language": "python",
   "name": "python2"
  },
  "language_info": {
   "codemirror_mode": {
    "name": "ipython",
    "version": 2
   },
   "file_extension": ".py",
   "mimetype": "text/x-python",
   "name": "python",
   "nbconvert_exporter": "python",
   "pygments_lexer": "ipython2",
   "version": "2.7.5"
  },
  "widgets": {
   "state": {
    "3011ac7fda384121807c1e6d3bb53a90": {
     "views": [
      {
       "cell_index": 4
      }
     ]
    },
    "3693106b0f0149329400060b8b292b47": {
     "views": [
      {
       "cell_index": 4
      }
     ]
    },
    "5926f90230194ce1aedc84df38a03a58": {
     "views": [
      {
       "cell_index": 4
      }
     ]
    },
    "701ca7c26472440f8696c37ac8a674c5": {
     "views": [
      {
       "cell_index": 4
      }
     ]
    },
    "8034b3d1111b4a84b95d3d652372d4c6": {
     "views": [
      {
       "cell_index": 4
      }
     ]
    },
    "b708ec7f8efc412fadf71f1e5bb10c04": {
     "views": [
      {
       "cell_index": 4
      }
     ]
    },
    "c4002ceed25e4c8bbcd03ed86b866948": {
     "views": [
      {
       "cell_index": 4
      }
     ]
    },
    "c8d5f7201fb147108797a161ca8414dc": {
     "views": [
      {
       "cell_index": 5
      },
      {
       "cell_index": 5
      },
      {
       "cell_index": 5
      },
      {
       "cell_index": 5
      },
      {
       "cell_index": 5
      }
     ]
    }
   },
   "version": "1.2.0"
  }
 },
 "nbformat": 4,
 "nbformat_minor": 0
}
